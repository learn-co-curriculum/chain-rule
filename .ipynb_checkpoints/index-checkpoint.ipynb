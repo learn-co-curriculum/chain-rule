{
 "cells": [
  {
   "cell_type": "markdown",
   "metadata": {},
   "source": [
    "# The chain rule for derivatives"
   ]
  },
  {
   "cell_type": "markdown",
   "metadata": {},
   "source": [
    "### Learning Goals"
   ]
  },
  {
   "cell_type": "markdown",
   "metadata": {},
   "source": [
    "* Understand that labeling a function as $f(x)$ means that our function is dependent on values of $x$ and labeling a function $f(y)$ means that are variables are dependent on values of $y$ \n"
   ]
  },
  {
   "cell_type": "markdown",
   "metadata": {},
   "source": [
    "### Reviewing our denotation"
   ]
  },
  {
   "cell_type": "markdown",
   "metadata": {},
   "source": [
    "Before getting into the chain rule, whatever that is, let's make sure we fully understand what we mean when we call a function $f(x)$.  When we label a function $f(x)$, we are indicating that the output of the function is dependent on the value of $x$.  This means that different input values of $x$ will produce a different output values for the function.  For example, in the function $f(x) = x^2 $, the output of $x^2$ is dependent on, or varies with, different values of $x$.  Similarly, in the function $f(y) = y^3$, the function $f(y)$ depends on different values of $y$.  "
   ]
  },
  {
   "cell_type": "markdown",
   "metadata": {},
   "source": [
    "So whatever is in the parentheses just means, \"is dependent on.\"  Now let's see something that is very wrong: $$f(y) = x$$.  \n",
    "\n",
    "That doesn't seem right as the output is not a function of $y$, it is a function of $x$. That is, it's output changes with different values of $x$.  "
   ]
  },
  {
   "cell_type": "markdown",
   "metadata": {},
   "source": [
    "### Functions dependent on other functions"
   ]
  },
  {
   "cell_type": "markdown",
   "metadata": {},
   "source": [
    "Now that we've reviewed how functions are dependent on variables, let's cover something less intuitive.  The output of a function can also be dependent on other functions.  For example consider the following: \n",
    "\n",
    "$$f(x) = x + 1 $$  \n",
    "$$g = f(x) + 2$$"
   ]
  },
  {
   "cell_type": "markdown",
   "metadata": {},
   "source": [
    "So here we have two functions, $f(x)$ and a function we'll call $g$, for now.  Our function $f(x)$ is dependent on $x$.  Now what does our function $g$ depend on?  Well the value of $g$ depends on what $f(x)$ is, and the value of $f(x)$ depends on what $x$ is.  For example, when $x$ = 1, then plugging in our function $f(x) we have: \n",
    "\n",
    "$$g_{x=1} = f(x) + 2 = x + 1 + 2 = 1 + 1 + 2$$"
   ]
  },
  {
   "cell_type": "markdown",
   "metadata": {},
   "source": [
    "So we can see that the output of $g$ depends on $f$ and the output of $f$ depends on $x$.  Here is how we can rewrite our functions to express this: \n",
    "\n",
    "$$g(x) = x + 1 $$ and \n",
    "$$f(g(x)) = g(x) + 1$$\n",
    "\n",
    "You can read $f(g(x))$ as $f$ of $g$ of $x$, which means $f$ depends on the function $g$, which depends on the function $x$."
   ]
  },
  {
   "cell_type": "markdown",
   "metadata": {},
   "source": [
    "### The chain rule\n",
    "Ok, now let's talk about the chain rule.  Assume that we have two functions:  \n",
    "\n",
    "$$g(x) = x$$\n",
    "$$f(g(x)) = g(x)^2$$\n",
    "\n",
    "The chain rule allows us to answer the question: what is the derivative of $\\frac{df}{dx}f(g(x)) = g(x)^2.$\n",
    "\n",
    "As you can see, the derivtive of $\\frac{df}{dx}f = g^2$, is a little tricky to think about.  Remember that in taking the derivative $\\frac{df}{dx}f(x)$, we are really asking what happens to the output of the function $f(x)$ when we change $x$ a little bit.  But our function $f(x)$ does not directly depend on $x$.  Well, the chain rule tells us how to solve just this.  The chain rule answers the question of how do take the derivative of a function $\\frac{df}{dx}f$ when a function $f$ does not directly depend on $x$, but does depend on another function, $g$ that depends on $x$?  \n",
    "\n",
    "The chain rule states that given a function $f$ where $f$, depends on a function $g$ which depends on $x$, $\\frac{df}{dx}f = \\frac{df}{dg}f(g)*\\frac{df}{dx}g(x)$.  Yes it's a mouthful, but it's not so bad in practice."
   ]
  },
  {
   "cell_type": "markdown",
   "metadata": {},
   "source": [
    "### Applying the chain rule"
   ]
  },
  {
   "cell_type": "markdown",
   "metadata": {},
   "source": [
    "### You got here -> change to use Delta "
   ]
  },
  {
   "cell_type": "markdown",
   "metadata": {},
   "source": [
    "Let's apply our chain rule step by step to the function by taking the derivative $\\frac{df}{dx}f $ where:\n",
    "\n",
    "$$f = g^2 $$\n",
    "$$g = x $$\n",
    "\n",
    "* First, we take the derivative $\\frac{df}{dg}f(g) = \\frac{df}{dg}(g^2) = 2*g$.\n",
    "* Then we take the derivative $\\frac{df}{dx}g(x) = \\frac{df}{dx}x = 1$.\n",
    "\n",
    "Now, plugging these functions back into our equation of $\\frac{df}{dx}f = \\frac{df}{dg}f(g)*\\frac{df}{dx}g(x)$ we have:\n",
    "\n",
    "$\\frac{df}{dx}f = 2*g*1 = 2*g$.  Finally we know that $ g = x $, so we have $\\frac{df}{dx}f = 2*g = 2*x$."
   ]
  },
  {
   "cell_type": "markdown",
   "metadata": {},
   "source": [
    "Remember this says that $\\frac{df}{dx}f(z)$ where $z $ is a function that depends on $x$ is $\\frac{df}{dz}*\\frac{dz}{dx}$.  Ok now let's solve for $\\frac{df}{dz}$ and $\\frac{dz}{dx}$ and plug them into our chain rule.\n",
    "\n",
    "When we know from above that \n",
    "$$\\frac{df}{dz}(z)^2 = 2z$$  And as we let $z(x) = 4x^3 + x^2 + 3x $, $$\\frac{dz}{dx}z(x) = \\frac{dz}{dx}(4x^3 + x^2 + 3x) = 12x^2 + 2x + 3 $$.  \n",
    "\n",
    "**Now let's just plug these two formulas into our chain rule **.\n",
    "\n",
    "$$f(g(x)) = g(x)^2 $$\n",
    "\n",
    "$$f'(g(x)) =  \\frac{df}{dx}g(x)^2 = 2*g(x) $$\n",
    "\n",
    "And we let $ g(x) = 4x^3 + x^2 + 3x $, so using our above rules, $ g'(x) = 12x^2 + 2x^1 + 3 $\n",
    "\n",
    "So now plugging in our chain rule we have: \n",
    "\n",
    "$\\frac{df}{dx}f(g(x)) =  2*(4x^3 + x^2 + 3x)*(12x^2 + 2x + 3) = (8x^3 + 2x^2 + 3x)(12x^2 + 2x + 3)$\n",
    "\n",
    "And let's leave it there for now.\n",
    "\n",
    "Perhaps start with g'(x).  Then talk about thinking of that base value as it's own term.  So if you think of it like that, what is the derivative...Also, look into what we have.  "
   ]
  },
  {
   "cell_type": "markdown",
   "metadata": {},
   "source": [
    "### Summary"
   ]
  },
  {
   "cell_type": "markdown",
   "metadata": {},
   "source": [
    "***\n",
    "This section is a little different in that we did not intuitively prove the rules we will apply.  But hopefully, you still have an intuition for the derivative of a function.  The derivative of a function at a given point is simply the rate of change of that function at that point.  And we calculate it with the formul"
   ]
  },
  {
   "cell_type": "markdown",
   "metadata": {},
   "source": [
    "In this section we saw that we can find the minimum error by following the line tangent to a graph.  And we can move along by following the line tangent to the spot we are currently located.  We then saw how this holds for a two-dimensional graph, by considering how our error changes with respect to a change in b.  We identified this change in output from an infintesimally small change in input as our derivative.  \n",
    "\n",
    "Then we considered three rules that allow us to calculate our derivative.  The most tricky of these is the power rule, which says that if $f(b) = b^n$, then $ f'(b) = n * b^{n -1} $.  We still haven't seen how derivativesgive us a way to understand gradient descent, but we will shortly when we consider how to take derivatives when we have functions with multiple variables, like an error function that is dependent on both m and b.\n",
    "\n",
    "But first, let's practice what we know about derivatives in a lab."
   ]
  }
 ],
 "metadata": {
  "kernelspec": {
   "display_name": "Python 3",
   "language": "python",
   "name": "python3"
  },
  "language_info": {
   "codemirror_mode": {
    "name": "ipython",
    "version": 3
   },
   "file_extension": ".py",
   "mimetype": "text/x-python",
   "name": "python",
   "nbconvert_exporter": "python",
   "pygments_lexer": "ipython3",
   "version": "3.6.1"
  }
 },
 "nbformat": 4,
 "nbformat_minor": 2
}
